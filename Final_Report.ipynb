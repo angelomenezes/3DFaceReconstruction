{
 "cells": [
  {
   "cell_type": "markdown",
   "metadata": {},
   "source": [
    "## 3D face reconstruction from low-resolution images"
   ]
  },
  {
   "cell_type": "markdown",
   "metadata": {},
   "source": [
    "### Angelo Garangau Menezes - N°USP: 11413492"
   ]
  },
  {
   "cell_type": "markdown",
   "metadata": {},
   "source": [
    "#### Abstract:\n",
    "Since the introduction of models that could reconstruct the dense 3D geometry of a face from a single image, there has been a trend in academia for models that could enhance this capability in high-resolution scenarios. However, the reconstruction event is also important for situations where images in low-resolution are the majority, such as in general surveillance.\n",
    "Most of the software that present features related to 3D face reconstruction usually include 3D morphable model fitting which may be computationally expensive and often do not bring enough details, mainly when the image to be used in the first place is a low-resolution one.\n",
    "\n",
    "This project evaluated different resolution scenarios and explored a deep volumetric regression network to infer 3D depth maps of faces"
   ]
  },
  {
   "cell_type": "markdown",
   "metadata": {},
   "source": [
    "#### The pipeline evaluated can be seen in the figure below"
   ]
  },
  {
   "cell_type": "markdown",
   "metadata": {},
   "source": [
    "![title](3D-Face-Reconstruction.png)"
   ]
  },
  {
   "cell_type": "markdown",
   "metadata": {},
   "source": [
    "### Up-sampling algorithms evaluated\n",
    "#### - Bilinear Interpolation\n",
    "#### - Bicubic Interpolation\n",
    "#### - SubPixel CNN (Shi et al, 2016)"
   ]
  },
  {
   "cell_type": "markdown",
   "metadata": {},
   "source": [
    "### 3D Face Reconstruction Algorithm Evaluated\n",
    "#### - Large Pose 3D Face Reconstruction from a Single Image via Direct Volumetric CNN Regression (Jackson et al, 2017)"
   ]
  },
  {
   "cell_type": "markdown",
   "metadata": {},
   "source": [
    "![title](Hourglass-Net.png)"
   ]
  },
  {
   "cell_type": "markdown",
   "metadata": {},
   "source": [
    "### Results\n",
    "\n",
    "##### It could be checked that when the images were from resolutions up to 32x32, the reconstruction would fail in all the cases since there was not enough details to produce an image of 128x128. Therefore, the deep network responsible for the regression of the mesh could not generate good approximations. However, when the images were from 64x64 and the needed reconstruction was only up a scale of 2, the algorithms were succesfull."
   ]
  }
 ],
 "metadata": {
  "kernelspec": {
   "display_name": "Image Class Kernel",
   "language": "python",
   "name": "image_class"
  },
  "language_info": {
   "codemirror_mode": {
    "name": "ipython",
    "version": 3
   },
   "file_extension": ".py",
   "mimetype": "text/x-python",
   "name": "python",
   "nbconvert_exporter": "python",
   "pygments_lexer": "ipython3",
   "version": "3.7.2"
  }
 },
 "nbformat": 4,
 "nbformat_minor": 2
}
