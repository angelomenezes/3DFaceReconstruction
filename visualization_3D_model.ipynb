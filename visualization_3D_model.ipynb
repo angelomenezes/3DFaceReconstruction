{
 "cells": [
  {
   "cell_type": "code",
   "execution_count": 59,
   "metadata": {},
   "outputs": [],
   "source": [
    "from data_transform import *\n",
    "from data_loader import *\n",
    "from visualize import visualize\n",
    "\n",
    "import os\n",
    "import cv2\n",
    "import torch"
   ]
  },
  {
   "cell_type": "code",
   "execution_count": 60,
   "metadata": {},
   "outputs": [
    {
     "name": "stdout",
     "output_type": "stream",
     "text": [
      "Image shape: (3, 128, 128)\n",
      "Volume shape: (200, 128, 128)\n"
     ]
    }
   ],
   "source": [
    "# Path to data\n",
    "\n",
    "img_path = 'E:\\\\Datasets\\\\3DFaces\\\\300W-3D-ALL\\\\images'\n",
    "mat_path = 'E:\\\\Datasets\\\\3DFaces\\\\300W-3D-ALL\\\\3d-scans'\n",
    "\n",
    "data = FacesWith3DCoords(\n",
    "    images_dir=img_path, mats_dir=mat_path, landmarks_dir=None, transform=True\n",
    ")\n",
    "\n",
    "i, m, _ = data[np.random.randint(len(data))]\n",
    "visualize(i, m, sz=0.25, thr=0.99)"
   ]
  }
 ],
 "metadata": {
  "kernelspec": {
   "display_name": "Image Class Kernel",
   "language": "python",
   "name": "image_class"
  },
  "language_info": {
   "codemirror_mode": {
    "name": "ipython",
    "version": 3
   },
   "file_extension": ".py",
   "mimetype": "text/x-python",
   "name": "python",
   "nbconvert_exporter": "python",
   "pygments_lexer": "ipython3",
   "version": "3.7.2"
  }
 },
 "nbformat": 4,
 "nbformat_minor": 2
}
