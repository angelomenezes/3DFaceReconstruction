{
 "cells": [
  {
   "cell_type": "code",
   "execution_count": 1,
   "metadata": {},
   "outputs": [],
   "source": [
    "import torch\n",
    "import torch.nn.functional as F\n",
    "import torch.optim as optim\n",
    "\n",
    "from data_loader import *\n",
    "from model_hourglass import StackedHourGlass\n",
    "from utils import to_cuda"
   ]
  },
  {
   "cell_type": "code",
   "execution_count": 2,
   "metadata": {},
   "outputs": [],
   "source": [
    "# Path to data\n",
    "\n",
    "img_path = 'E:\\\\Datasets\\\\3DFaces\\\\300W-3D-ALL\\\\images'\n",
    "mat_path = 'E:\\\\Datasets\\\\3DFaces\\\\300W-3D-ALL\\\\3d-scans'"
   ]
  },
  {
   "cell_type": "code",
   "execution_count": 3,
   "metadata": {},
   "outputs": [],
   "source": [
    "# Calling data loaders\n",
    "\n",
    "trainset = FacesWith3DCoords(\n",
    "    images_dir=img_path, mats_dir=mat_path, transform=True\n",
    ")\n",
    "\n",
    "trainloader = torch.utils.data.DataLoader(\n",
    "    trainset, batch_size=4, shuffle=True, num_workers=2\n",
    ")\n",
    "\n",
    "model = StackedHourGlass(nChannels=224, nStack=2, nModules=2, numReductions=4, nOutputs=200)\n",
    "model.cuda()\n",
    "model.train()\n",
    "\n",
    "# Definition of loss and optimizer\n",
    "criterion = torch.nn.CrossEntropyLoss()\n",
    "\n",
    "# optimizer = optim.SGD(net.parameters(), lr=0.1, momentum=0.9)\n",
    "optimizer = optim.RMSprop(model.parameters(), lr=0.001)\n",
    "scheduler = optim.lr_scheduler.StepLR(optimizer, step_size=5, gamma=0.9)"
   ]
  },
  {
   "cell_type": "code",
   "execution_count": null,
   "metadata": {},
   "outputs": [],
   "source": [
    "def train():\n",
    "\n",
    "    for epoch in range(0, 100):  # loop over the dataset multiple times\n",
    "        print(\"=== Epoch\", epoch, \"===\")\n",
    "        scheduler.step()\n",
    "\n",
    "        running_loss, epoch_avg = 0.0, 0.0\n",
    "\n",
    "        for i, data in enumerate(trainloader, 1):\n",
    "            \n",
    "            # Load input from dataloader\n",
    "            images, volumes, _ = data\n",
    "\n",
    "            images = to_cuda(images, True)\n",
    "            volumes = to_cuda(volumes, True)\n",
    "\n",
    "            # Zero the parameter gradients\n",
    "            optimizer.zero_grad()\n",
    "\n",
    "            out_volumes = F.sigmoid(model(images))\n",
    "\n",
    "            loss = F.binary_cross_entropy(out_volumes, volumes)\n",
    "\n",
    "            loss.backward()\n",
    "\n",
    "            torch.nn.utils.clip_grad_value_(model.parameters(), 5)\n",
    "            optimizer.step()\n",
    "\n",
    "            # Print some stats\n",
    "            running_loss += loss.item()\n",
    "            epoch_avg += loss.item()\n",
    "\n",
    "            if i % 1 == 0:\n",
    "                print('[%2d, %5d/%5d] loss: %.8f lr %.8f' % (epoch, i, len(trainloader), running_loss / 1, scheduler.get_lr()[0]))\n",
    "                running_loss = 0.0\n",
    "\n",
    "        print(\"EPOCH AVG\", epoch_avg / len(trainloader))\n",
    "        \n",
    "        # Save model each 5 epochs\n",
    "        if epoch % 5 == 0:\n",
    "            torch.save(model.state_dict(), \"trained_models/hourglass_%d_epochs\" % epoch)\n",
    "\n",
    "train()"
   ]
  }
 ],
 "metadata": {
  "kernelspec": {
   "display_name": "Image Class Kernel",
   "language": "python",
   "name": "image_class"
  },
  "language_info": {
   "codemirror_mode": {
    "name": "ipython",
    "version": 3
   },
   "file_extension": ".py",
   "mimetype": "text/x-python",
   "name": "python",
   "nbconvert_exporter": "python",
   "pygments_lexer": "ipython3",
   "version": "3.7.2"
  }
 },
 "nbformat": 4,
 "nbformat_minor": 2
}
