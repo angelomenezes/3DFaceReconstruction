{
 "cells": [
  {
   "cell_type": "code",
   "execution_count": 2,
   "metadata": {},
   "outputs": [],
   "source": [
    "import cv2\n",
    "import torch\n",
    "import torch.nn.functional as F\n",
    "\n",
    "from model_hourglass import StackedHourGlass\n",
    "from utils import to_cuda, get_coords\n",
    "from visualize import visualize\n",
    "import numpy as np\n",
    "\n",
    "#import plotly\n",
    "\n",
    "#plotly.tools.set_credentials_file(username='', api_key='')\n",
    "\n",
    "#import plotly.plotly as py\n",
    "#import plotly.graph_objs as go"
   ]
  },
  {
   "cell_type": "code",
   "execution_count": 3,
   "metadata": {},
   "outputs": [
    {
     "data": {
      "text/plain": [
       "torch.Size([3, 128, 128])"
      ]
     },
     "execution_count": 3,
     "metadata": {},
     "output_type": "execute_result"
    }
   ],
   "source": [
    "#path = 'results/test_images_128_bicubic/img3_64.jpg'\n",
    "path = 'sample_images/0007_01.jpg'\n",
    "\n",
    "img = cv2.imread(path, cv2.IMREAD_COLOR)\n",
    "img = cv2.resize(img, (128, 128), interpolation=cv2.INTER_AREA)\n",
    "img = torch.from_numpy(img.transpose(2, 0, 1)).float()\n",
    "img = (img - 128) / 128.0\n",
    "img.shape"
   ]
  },
  {
   "cell_type": "code",
   "execution_count": 4,
   "metadata": {},
   "outputs": [],
   "source": [
    "saved_model = 'trained_models/hourglass_55_epochs'\n",
    "\n",
    "model = StackedHourGlass(nChannels=224, nStack=2, nModules=2, numReductions=4, nOutputs=200)\n",
    "model.cuda()\n",
    "model.load_state_dict(torch.load(saved_model))\n",
    "model.eval()\n",
    "\n",
    "img = to_cuda(img.unsqueeze(0), True)\n",
    "out = F.sigmoid(model(img))\n",
    "\n",
    "img = img.squeeze(0).cpu()\n",
    "out = out.detach().squeeze(0).cpu()"
   ]
  },
  {
   "cell_type": "code",
   "execution_count": 5,
   "metadata": {},
   "outputs": [
    {
     "name": "stdout",
     "output_type": "stream",
     "text": [
      "Image shape: (3, 128, 128)\n",
      "Volume shape: (200, 128, 128)\n"
     ]
    }
   ],
   "source": [
    "# Visualization\n",
    "\n",
    "thr, sz = 0.9, 0.25\n",
    "\n",
    "x, y, z = get_coords(out.numpy(), sz=sz, thr=thr)\n",
    "\n",
    "visualize(img, out, sz=0.25, thr=thr)"
   ]
  },
  {
   "cell_type": "code",
   "execution_count": 17,
   "metadata": {},
   "outputs": [
    {
     "data": {
      "text/html": [
       "<iframe id=\"igraph\" scrolling=\"no\" style=\"border:none;\" seamless=\"seamless\" src=\"https://plot.ly/~angelomenezes/6.embed\" height=\"525px\" width=\"100%\"></iframe>"
      ],
      "text/plain": [
       "<chart_studio.tools.PlotlyDisplay object>"
      ]
     },
     "execution_count": 17,
     "metadata": {},
     "output_type": "execute_result"
    }
   ],
   "source": [
    "# Visualization with Pyplot\n",
    "\n",
    "#trace = go.Mesh3d(x=x,y=y,z=z,\n",
    "#                   alphahull=-1,\n",
    "#                   opacity=0.4,\n",
    "#                   color='#00FFFF')\n",
    "#py.iplot([trace])"
   ]
  },
  {
   "cell_type": "code",
   "execution_count": null,
   "metadata": {},
   "outputs": [],
   "source": []
  }
 ],
 "metadata": {
  "kernelspec": {
   "display_name": "Python 3",
   "language": "python",
   "name": "python3"
  },
  "language_info": {
   "codemirror_mode": {
    "name": "ipython",
    "version": 3
   },
   "file_extension": ".py",
   "mimetype": "text/x-python",
   "name": "python",
   "nbconvert_exporter": "python",
   "pygments_lexer": "ipython3",
   "version": "3.6.8"
  }
 },
 "nbformat": 4,
 "nbformat_minor": 4
}
