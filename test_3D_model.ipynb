{
 "cells": [
  {
   "cell_type": "code",
   "execution_count": 5,
   "metadata": {},
   "outputs": [],
   "source": [
    "import cv2\n",
    "import torch\n",
    "import torch.nn.functional as F\n",
    "\n",
    "from model_hourglass import StackedHourGlass\n",
    "from utils import get_args, to_cuda\n",
    "from visualize import visualize\n",
    "\n",
    "#from out_to_mesh import get_coords, to_stl"
   ]
  },
  {
   "cell_type": "code",
   "execution_count": 6,
   "metadata": {},
   "outputs": [
    {
     "data": {
      "text/plain": [
       "torch.Size([3, 128, 128])"
      ]
     },
     "execution_count": 6,
     "metadata": {},
     "output_type": "execute_result"
    }
   ],
   "source": [
    "img = cv2.imread('cubic.jpg', cv2.IMREAD_COLOR)\n",
    "img = cv2.resize(img, (128, 128), interpolation=cv2.INTER_AREA)\n",
    "img = torch.from_numpy(img.transpose(2, 0, 1)).float()\n",
    "img = (img - 128) / 128.0\n",
    "img.shape"
   ]
  },
  {
   "cell_type": "code",
   "execution_count": 7,
   "metadata": {},
   "outputs": [],
   "source": [
    "saved_model = 'trained_models/hourglass_55_epochs'\n",
    "\n",
    "model = StackedHourGlass(nChannels=224, nStack=2, nModules=2, numReductions=4, nOutputs=200)\n",
    "model.cuda()\n",
    "model.load_state_dict(torch.load(saved_model))\n",
    "model.eval()\n",
    "\n",
    "img = to_cuda(img.unsqueeze(0), True)\n",
    "out = F.sigmoid(model(img))\n",
    "\n",
    "img = img.squeeze(0).cpu()\n",
    "out = out.detach().squeeze(0).cpu()"
   ]
  },
  {
   "cell_type": "code",
   "execution_count": 8,
   "metadata": {},
   "outputs": [
    {
     "name": "stdout",
     "output_type": "stream",
     "text": [
      "Image shape: (3, 128, 128)\n",
      "Volume shape: (200, 128, 128)\n"
     ]
    }
   ],
   "source": [
    "# Visualization\n",
    "\n",
    "thr, sz = 0.9, 0.25\n",
    "\n",
    "#x, y, z = get_coords(out.numpy(), sz=sz, thr=thr)\n",
    "#to_stl(\"../meshes/out_test\", x, y, z)\n",
    "\n",
    "visualize(img, out, sz=0.25, thr=thr)"
   ]
  }
 ],
 "metadata": {
  "kernelspec": {
   "display_name": "Image Class Kernel",
   "language": "python",
   "name": "image_class"
  },
  "language_info": {
   "codemirror_mode": {
    "name": "ipython",
    "version": 3
   },
   "file_extension": ".py",
   "mimetype": "text/x-python",
   "name": "python",
   "nbconvert_exporter": "python",
   "pygments_lexer": "ipython3",
   "version": "3.7.2"
  }
 },
 "nbformat": 4,
 "nbformat_minor": 2
}
